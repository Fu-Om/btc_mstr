{
 "cells": [
  {
   "cell_type": "markdown",
   "metadata": {},
   "source": [
    "# Bitcoin Derivative Analysis - Binance Covered Call\n",
    "- Calculate option price by Black-Scholes formula\n",
    "- Calculate HV\n",
    "- Calculate the range of possible price by bootstrap of hourly change\n",
    "\n",
    "reference\n",
    "[ASX Portfolio - Black Scholes](https://www.youtube.com/watch?v=FzeXWMlTDHY&t=2s)"
   ]
  },
  {
   "cell_type": "markdown",
   "metadata": {},
   "source": [
    "## Calculate option price by Black-Sholes formula"
   ]
  },
  {
   "cell_type": "code",
   "execution_count": null,
   "metadata": {},
   "outputs": [],
   "source": [
    "from datetime import datetime, timedelta\n",
    "import pandas as pd\n",
    "import numpy as np\n",
    "from scipy.stats import norm\n",
    "import matplotlib.pyplot as plt\n",
    "import seaborn as sns\n",
    "import plotly"
   ]
  },
  {
   "cell_type": "code",
   "execution_count": null,
   "metadata": {},
   "outputs": [],
   "source": [
    "def days_till_expiry(expiry_date):\n",
    "    day_now = datetime.utcnow()\n",
    "    day_expiry = datetime.strptime(f'{expiry_date} 08:00:00', '%Y-%m-%d %H:%M:%S')\n",
    "    days_left = (day_expiry - day_now) / timedelta(days=1)\n",
    "    return days_left"
   ]
  },
  {
   "cell_type": "code",
   "execution_count": null,
   "metadata": {},
   "outputs": [],
   "source": [
    "# Implement Black-Scholes formula\n",
    "# risk free rate: r\n",
    "# Underlying price: S\n",
    "# Strike price: K\n",
    "# Time in years: T\n",
    "# Volatility(decimal): sigme\n",
    "\n",
    "def blackScholesCall(r, S, K, T, sigma):\n",
    "    \"Calculate call option price by BS formula.\"\n",
    "    d1 = (np.log(S/K) + (r + sigma**2/2)*T)/(sigma*np.sqrt(T))\n",
    "    d2 = d1 - sigma*np.sqrt(T)\n",
    "    price = S*norm.cdf(d1, 0, 1) - K*np.exp(-r*T)*norm.cdf(d2, 0, 1)\n",
    "    return price\n"
   ]
  },
  {
   "cell_type": "code",
   "execution_count": null,
   "metadata": {},
   "outputs": [],
   "source": [
    "expiry_date = '2022-05-20'\n",
    "r = 0.01\n",
    "S = 29831\n",
    "K = 33000\n",
    "T = days_till_expiry(expiry_date) / 365\n",
    "#T = 1/365\n",
    "sigma = 0.89\n",
    "price = blackScholesCall(r, S, K, T, sigma)\n",
    "apy = 100 * price / (S * T)\n",
    "print(round(apy, 1))\n"
   ]
  }
 ],
 "metadata": {
  "interpreter": {
   "hash": "ab8f957d80ebf7624d0552a4c0a0f5268ea797e8ce816cde1571558ff00755c3"
  },
  "kernelspec": {
   "display_name": "Python 3 (ipykernel)",
   "language": "python",
   "name": "python3"
  },
  "language_info": {
   "codemirror_mode": {
    "name": "ipython",
    "version": 3
   },
   "file_extension": ".py",
   "mimetype": "text/x-python",
   "name": "python",
   "nbconvert_exporter": "python",
   "pygments_lexer": "ipython3",
   "version": "3.8.10"
  }
 },
 "nbformat": 4,
 "nbformat_minor": 4
}
