{
 "cells": [
  {
   "cell_type": "markdown",
   "id": "44111fd8-6678-4389-bb06-ce2e174f77fa",
   "metadata": {},
   "source": [
    "resources\n",
    "- [NEDL](https://www.youtube.com/watch?v=jvZ0vuC9oJk&list=LL&index=63)\n",
    "- [MSTR evaluation](https://www.youtube.com/watch?v=WHrx8Iouk3s)"
   ]
  },
  {
   "cell_type": "code",
   "execution_count": null,
   "id": "aeb05036-4c30-41a0-95cb-b78018819d8f",
   "metadata": {},
   "outputs": [],
   "source": [
    "import datetime\n",
    "from IPython.display import Markdown as md\n",
    "import ccxt\n",
    "import yfinance as yf\n",
    "import numpy as np\n",
    "import pandas as pd\n",
    "import requests\n",
    "import re\n",
    "import plotly\n",
    "import plotly.express as px\n",
    "import statsmodels.api as sm\n",
    "import scipy.optimize as spop"
   ]
  },
  {
   "cell_type": "code",
   "execution_count": null,
   "id": "92034f8a-4e11-4221-b3d5-cdc997175c89",
   "metadata": {},
   "outputs": [],
   "source": [
    "now = datetime.datetime.now()\n",
    "md(\"Last Updated at {}\".format(now.strftime(\"%Y/%m/%d %H:%M\")))"
   ]
  },
  {
   "cell_type": "code",
   "execution_count": null,
   "id": "ad294731-c740-4e48-acbd-faf9a482ed26",
   "metadata": {},
   "outputs": [],
   "source": [
    "exchange = ccxt.kraken ({\"enableRateLimit\": True})\n",
    "candles = exchange.fetch_ohlcv(\"BTC/USD\", \"1d\")\n",
    "df_btc = pd.DataFrame(candles)\n",
    "df_btc = df_btc.iloc[:, [0, 4]]\n",
    "df_btc.columns = [\"time\", \"btc_usd_close\"]\n",
    "df_btc[\"time\"] = pd.to_datetime(df_btc[\"time\"], unit=\"ms\")\n",
    "df_btc[\"str_time\"] = pd.to_datetime(df_btc[\"time\"], unit=\"ms\").dt.strftime(\"%Y/%m/%d\")"
   ]
  },
  {
   "cell_type": "markdown",
   "id": "160265e8-1fe0-4a17-88b3-c25993412f5e",
   "metadata": {},
   "source": [
    "# Price chart of BTC/USD"
   ]
  },
  {
   "cell_type": "code",
   "execution_count": null,
   "id": "b15634a1-6208-4d05-88fc-05c7ae8f8656",
   "metadata": {},
   "outputs": [],
   "source": [
    "fig = px.line(df_btc, x=\"time\", y=\"btc_usd_close\")\n",
    "fig.show()"
   ]
  },
  {
   "cell_type": "markdown",
   "id": "b4fd1cf4-96f6-4579-9968-db3df9cfab5b",
   "metadata": {},
   "source": [
    "# Price chart of MSTR"
   ]
  },
  {
   "cell_type": "code",
   "execution_count": null,
   "id": "8723c3cb-ad67-49da-897a-10d99592c2c2",
   "metadata": {},
   "outputs": [],
   "source": [
    "# match start and end date with btc/usd\n",
    "start_date = list(map(int, df_btc[\"str_time\"].iloc[0].split('/')))\n",
    "end_date = list(map(int, df_btc[\"str_time\"].iloc[-1].split('/')))\n",
    "start = datetime.datetime(start_date[0], start_date[1], start_date[2])\n",
    "end = datetime.datetime(end_date[0], end_date[1], end_date[2])\n",
    "print(start, end)\n",
    "\n",
    "# download the stock price \n",
    "stock = \"MSTR\"\n",
    "df_mstr = yf.download(stock, start=start, end=end, progress=False).reset_index()"
   ]
  },
  {
   "cell_type": "code",
   "execution_count": null,
   "id": "81dcf2d6-b8f8-4cd5-93fe-051e492e3208",
   "metadata": {},
   "outputs": [],
   "source": [
    "df_mstr = df_mstr[[\"Date\",  \"Close\"]].rename(columns = {\"Date\": \"time\", \"Close\": \"mstr_close\"})\n",
    "df_mstr[\"str_time\"] = df_mstr[\"time\"].dt.strftime(\"%Y/%m/%d\")"
   ]
  },
  {
   "cell_type": "code",
   "execution_count": null,
   "id": "94e9753c-88a1-4846-aefd-302c9ab591e7",
   "metadata": {},
   "outputs": [],
   "source": [
    "fig = px.line(df_mstr, x=\"time\", y=\"mstr_close\")\n",
    "fig.show()"
   ]
  },
  {
   "cell_type": "code",
   "execution_count": null,
   "id": "efe0e314-62cf-463f-ae16-5460696a33f4",
   "metadata": {},
   "outputs": [],
   "source": [
    "# 400 / month budget\n",
    "# 35-40% from ATH: 175/week\n",
    "# 40-45% from ATH: 260/week\n",
    "# 45-50% from ATH: 425/week\n",
    "# >50% from ATH: /week\n",
    "\n",
    "def drop_from_ath():\n",
    "    # function to return \n",
    "    url = \"https://www.coingecko.com/en/coins/bitcoin\"\n",
    "    headers = {'User-agent': 'Mozilla/5.0'}\n",
    "    try:\n",
    "        response = requests.get(url=url, headers=headers)\n",
    "        response.encoding = response.apparent_encoding\n",
    "\n",
    "    except requests.exceptions.RequestException as e:\n",
    "        raise SystemExit(e)\n",
    "    tmp = pd.read_html(response.text)[0]\n",
    "    ath_percentage_str = tmp[tmp[0].str.contains(\"All-Time High\")][1].values[0].split()[1]\n",
    "    ath_percentage_num = float(re.findall(r\"[-+]?\\d*\\.\\d+|\\d+\", ath_percentage_str)[0])\n",
    "    return ath_percentage_num"
   ]
  },
  {
   "cell_type": "markdown",
   "id": "bb8b206a-d366-4bcd-88dd-a317bfa0b15d",
   "metadata": {},
   "source": [
    "# Cointegration test"
   ]
  },
  {
   "cell_type": "code",
   "execution_count": null,
   "id": "b2466481-9632-4d17-b3b8-ca6b5e085c32",
   "metadata": {
    "tags": []
   },
   "outputs": [],
   "source": [
    "df = pd.merge(df_btc, df_mstr, on=\"str_time\", how=\"inner\")"
   ]
  },
  {
   "cell_type": "code",
   "execution_count": null,
   "id": "6ad0fdc4-1cee-46be-b2bb-1b6030ea095b",
   "metadata": {},
   "outputs": [],
   "source": [
    "df_price = df[[\"time_x\", \"btc_usd_close\", \"mstr_close\"]]\n",
    "df_price = df_price.rename(columns={\"time_x\": \"date\", \"btc_usd_close\": \"BTC\", \"mstr_close\":\"MSTR\"})"
   ]
  },
  {
   "cell_type": "code",
   "execution_count": null,
   "id": "fa94e03a-4e85-4817-9090-6a159edef5e5",
   "metadata": {},
   "outputs": [],
   "source": [
    "df_returns = pd.DataFrame()\n",
    "for item in [\"BTC\", \"MSTR\"]:\n",
    "    df_returns[item] = np.append(df_price[item][1:].reset_index(drop=True)/df_price[item][:-1].reset_index(drop=True) -1, 0)"
   ]
  },
  {
   "cell_type": "code",
   "execution_count": null,
   "id": "4e6cd1bc-f753-408c-bc62-2eaa7bc32d17",
   "metadata": {},
   "outputs": [],
   "source": [
    "df_price = df_price.loc[(df_price[\"date\"] > \"2021-01-01\"), :]\n",
    "df_price[\"MSTR_BTC_ratio\"] = np.log(df_price[\"MSTR\"]) - np.log(df_price[\"BTC\"])\n",
    "fig = px.line(df_price, x=\"date\", y=\"MSTR_BTC_ratio\")\n",
    "fig.show()"
   ]
  },
  {
   "cell_type": "code",
   "execution_count": null,
   "id": "4bef2e67-088d-42d9-be49-e51fc0e77f28",
   "metadata": {},
   "outputs": [],
   "source": [
    "df_price[\"ratio_zscore\"] = (df_price[\"MSTR_BTC_ratio\"] - np.mean(df_price[\"MSTR_BTC_ratio\"])) / np.std(df_price[\"MSTR_BTC_ratio\"])\n",
    "fig = px.line(df_price, x=\"date\", y=\"ratio_zscore\")\n",
    "fig.add_hline(y=np.mean(df_price[\"ratio_zscore\"]))\n",
    "fig.show()"
   ]
  },
  {
   "cell_type": "code",
   "execution_count": null,
   "id": "9a31de29-3096-4b20-ba88-cacfeac2b779",
   "metadata": {},
   "outputs": [],
   "source": [
    "# initializing arrays\n",
    "gross_returns = np.array([])\n",
    "net_returns = np.array([])\n",
    "t_stats = np.array([])\n",
    "fair_values = np.array([])\n",
    "diff_values = np.array([])\n",
    "a_opts = np.array([])\n",
    "b_opts = np.array([])\n",
    "# rolling window\n",
    "window = 256\n",
    "t_threshold = 0.05\n",
    "fee = 0.001 # 0.1%\n",
    "\n",
    "for t in range(window, len(df_price)):\n",
    "    # define unit root function\n",
    "    # MSTR = a + b * BTC\n",
    "    def unit_root(b):\n",
    "        a = np.average(df_price[\"MSTR\"][t-window:t] - b * df_price[\"BTC\"][t-window:t])\n",
    "        fair_value = a + b * df_price[\"BTC\"][t-window:t]\n",
    "        diff = np.array(fair_value - df_price[\"MSTR\"][t-window:t])\n",
    "        # difference in difference\n",
    "        diff_diff = diff[1:] - diff[:-1]\n",
    "        # regress difference in difference by lagged difference\n",
    "        lin_reg = sm.OLS(diff_diff, diff[:-1])\n",
    "        result = lin_reg.fit()\n",
    "        # return Dicky-Fuller t-stat\n",
    "        return result.params[0]/result.bse[0]\n",
    "    \n",
    "    # optimize cointegration parameters\n",
    "    result1 = spop.minimize(unit_root, df_price[\"MSTR\"][t] / df_price[\"BTC\"][t], method=\"Nelder-Mead\")\n",
    "    t_opt = result1.fun\n",
    "    b_opt = float(result1.x)\n",
    "    a_opt = np.average(df_price[\"MSTR\"][t-window:t] - b_opt * df_price[\"BTC\"][t-window:t])\n",
    "    fair_value = a_opt + b_opt * df_price[\"BTC\"][t]\n",
    "    diff_value = fair_value - df_price[\"MSTR\"][t]\n",
    "    \n",
    "    # simulate trading\n",
    "    if t == window:\n",
    "        old_signal = 0\n",
    "    if t_opt > t_threshold:\n",
    "        signal = 0\n",
    "        gross_return = 0\n",
    "    else:\n",
    "        signal = np.sign(fair_value - df_price[\"BTC\"][t])\n",
    "        gross_return = signal * df_returns[\"MSTR\"][t] - signal * df_returns[\"BTC\"][t]\n",
    "    fees = fee * abs(signal - old_signal)\n",
    "    net_return = gross_return - fees\n",
    "    gross_returns = np.append(gross_returns, gross_return)\n",
    "    net_returns = np.append(net_returns, net_return)\n",
    "    t_stats = np.append(t_stats, t_opt)\n",
    "    fair_values = np.append(fair_values, fair_value)\n",
    "    diff_values = np.append(diff_values, diff_value)\n",
    "    a_opts = np.append(a_opts, a_opt)\n",
    "    b_opts = np.append(b_opts, b_opt)\n",
    "    \n",
    "    # simple logging\n",
    "    #print('day ' + str(df_price.index[t]))\n",
    "    #print('----------')\n",
    "    #if signal == 0:\n",
    "    #    print('No trading')\n",
    "    #elif signal == 1:\n",
    "    #    print('long BTC, short MSTR.')\n",
    "    #else:\n",
    "    #    print('short BTC, long MSTR.')\n",
    "    #print(f'gross daily return: {round(gross_return*100, 2)}%')\n",
    "    #print(f'net daily return: {round(net_return*100, 2)}%')\n",
    "    #print(f'cumulative net return: {round(np.prod(1+net_returns)*100 -100, 2)}%')\n",
    "    #print('----------')\n",
    "    old_signal = signal"
   ]
  },
  {
   "cell_type": "code",
   "execution_count": null,
   "id": "490eba8c-d453-4106-aefd-a482a893a1fc",
   "metadata": {},
   "outputs": [],
   "source": [
    "df_result = pd.DataFrame({\"gross_returns\":np.append(1, np.cumprod(1+gross_returns)), \n",
    "                          \"net_returns\": np.append(1, np.cumprod(1+net_returns))})\n",
    "df_result[\"date\"] = df_price[\"date\"][window:].reset_index(drop=True)\n",
    "fig = px.line(df_result, \"date\", \"net_returns\")\n",
    "fig.show()"
   ]
  },
  {
   "cell_type": "code",
   "execution_count": null,
   "id": "f8a08ff1-fa44-452c-8fa9-28038e3e34a4",
   "metadata": {},
   "outputs": [],
   "source": [
    "df_mstr = df_price.iloc[window:, ].copy()\n",
    "df_mstr.loc[:, \"fair_value\"] = fair_values\n",
    "df_mstr.loc[:, \"diff_value\"] = diff_values\n",
    "df_mstr.loc[:, \"t_stat\"] = t_stats\n",
    "df_mstr.loc[:, \"a_opt\"] = a_opts\n",
    "df_mstr.loc[:, \"b_opt\"] = b_opts\n",
    "#df_mstr.loc[abs(df_mstr[\"fair_value\"])>10**8, \"fair_value\"] = 0"
   ]
  },
  {
   "cell_type": "code",
   "execution_count": null,
   "id": "3ce06a4e-3119-4bb6-85d4-2fcdb9d48b58",
   "metadata": {},
   "outputs": [],
   "source": [
    "fig = px.line(df_mstr, \"date\", df_mstr[\"b_opt\"])\n",
    "fig.show()"
   ]
  },
  {
   "cell_type": "markdown",
   "id": "99a70cf8-084b-4e83-a6ed-1ab1c48ebe04",
   "metadata": {},
   "source": [
    "# MSTR stock evaluation"
   ]
  },
  {
   "cell_type": "code",
   "execution_count": null,
   "id": "a13d5b5c-ede7-44d4-8391-fb45f2ed8689",
   "metadata": {},
   "outputs": [],
   "source": [
    "# Last update 2022/06/11\n",
    "# https://www.coingecko.com/en/public-companies-bitcoin\n",
    "BTC_owned = 129218\n",
    "last_btc_price = df_mstr.iloc[-1][\"BTC\"]\n",
    "# https://stockanalysis.com/stocks/mstr/statistics/\n",
    "num_shares = 11.30 * 10**6\n",
    "last_mstr_price = df_mstr.iloc[-1][\"MSTR\"]\n",
    "# MSTR intrinsic value\n",
    "mstr_val = 1200000000\n",
    "print(f\"BTC price: {last_btc_price}\")\n",
    "print(f\"MSTR close price: {last_mstr_price}\")\n",
    "print(f\"BTC per share: {BTC_owned / num_shares}\")\n",
    "print(f\"Spot BTC price: {last_btc_price * BTC_owned / num_shares}\")\n",
    "print(f\"Discount/Premium: {round(((last_mstr_price * num_shares) / (last_btc_price * BTC_owned) -1) * 100, 2)}%\")"
   ]
  }
 ],
 "metadata": {
  "interpreter": {
   "hash": "ab8f957d80ebf7624d0552a4c0a0f5268ea797e8ce816cde1571558ff00755c3"
  },
  "kernelspec": {
   "display_name": "Python 3 (ipykernel)",
   "language": "python",
   "name": "python3"
  },
  "language_info": {
   "codemirror_mode": {
    "name": "ipython",
    "version": 3
   },
   "file_extension": ".py",
   "mimetype": "text/x-python",
   "name": "python",
   "nbconvert_exporter": "python",
   "pygments_lexer": "ipython3",
   "version": "3.8.10"
  }
 },
 "nbformat": 4,
 "nbformat_minor": 5
}
