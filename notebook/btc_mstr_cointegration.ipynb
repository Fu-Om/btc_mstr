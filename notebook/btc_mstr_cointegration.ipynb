{
 "cells": [
  {
   "cell_type": "code",
   "execution_count": null,
   "id": "aeb05036-4c30-41a0-95cb-b78018819d8f",
   "metadata": {},
   "outputs": [],
   "source": [
    "import datetime\n",
    "from IPython.display import Markdown as md\n",
    "import ccxt\n",
    "import yfinance as yf\n",
    "import pandas as pd\n",
    "import plotly\n",
    "import plotly.express as px\n",
    "import statsmodels.api as sm\n",
    "import scipy.optimize as spop"
   ]
  },
  {
   "cell_type": "code",
   "execution_count": null,
   "id": "92034f8a-4e11-4221-b3d5-cdc997175c89",
   "metadata": {},
   "outputs": [],
   "source": [
    "now = datetime.datetime.now()\n",
    "md(\"Last Updated at {}\".format(now.strftime(\"%Y/%m/%d %H:%M\")))"
   ]
  },
  {
   "cell_type": "code",
   "execution_count": null,
   "id": "ad294731-c740-4e48-acbd-faf9a482ed26",
   "metadata": {},
   "outputs": [],
   "source": [
    "exchange = ccxt.kraken ({\"enableRateLimit\": True})\n",
    "candles = exchange.fetch_ohlcv(\"BTC/USD\", \"1d\")\n",
    "df_btc = pd.DataFrame(candles)\n",
    "df_btc = df_btc.iloc[:, [0, 4]]\n",
    "df_btc.columns = [\"time\", \"btc_usd_close\"]\n",
    "df_btc[\"time\"] = pd.to_datetime(df_btc[\"time\"], unit=\"ms\")\n",
    "df_btc[\"str_time\"] = pd.to_datetime(df_btc[\"time\"], unit=\"ms\").dt.strftime(\"%Y/%m/%d\")"
   ]
  },
  {
   "cell_type": "markdown",
   "id": "160265e8-1fe0-4a17-88b3-c25993412f5e",
   "metadata": {},
   "source": [
    "# Price chart of BTC/USD"
   ]
  },
  {
   "cell_type": "code",
   "execution_count": null,
   "id": "b15634a1-6208-4d05-88fc-05c7ae8f8656",
   "metadata": {},
   "outputs": [],
   "source": [
    "fig = px.line(df_btc, x=\"time\", y=\"btc_usd_close\")\n",
    "fig.show()"
   ]
  },
  {
   "cell_type": "markdown",
   "id": "b4fd1cf4-96f6-4579-9968-db3df9cfab5b",
   "metadata": {},
   "source": [
    "# Price chart of MSTR"
   ]
  },
  {
   "cell_type": "code",
   "execution_count": null,
   "id": "8723c3cb-ad67-49da-897a-10d99592c2c2",
   "metadata": {},
   "outputs": [],
   "source": [
    "# match start and end date with btc/usd\n",
    "start_date = list(map(int, df_btc[\"str_time\"].iloc[0].split('/')))\n",
    "end_date = list(map(int, df_btc[\"str_time\"].iloc[-1].split('/')))\n",
    "start = datetime.datetime(start_date[0], start_date[1], start_date[2])\n",
    "end = datetime.datetime(end_date[0], end_date[1], end_date[2])\n",
    "print(start, end)\n",
    "\n",
    "# download the stock price \n",
    "stock = \"MSTR\"\n",
    "df_mstr = yf.download(stock, start=start, end=end, progress=False).reset_index()"
   ]
  },
  {
   "cell_type": "code",
   "execution_count": null,
   "id": "81dcf2d6-b8f8-4cd5-93fe-051e492e3208",
   "metadata": {},
   "outputs": [],
   "source": [
    "df_mstr = df_mstr[[\"Date\",  \"Close\"]].rename(columns = {\"Date\": \"time\", \"Close\": \"mstr_close\"})\n",
    "df_mstr[\"str_time\"] = df_mstr[\"time\"].dt.strftime(\"%Y/%m/%d\")"
   ]
  },
  {
   "cell_type": "code",
   "execution_count": null,
   "id": "94e9753c-88a1-4846-aefd-302c9ab591e7",
   "metadata": {},
   "outputs": [],
   "source": [
    "fig = px.line(df_mstr, x=\"time\", y=\"mstr_close\")\n",
    "fig.show()"
   ]
  },
  {
   "cell_type": "markdown",
   "id": "bb8b206a-d366-4bcd-88dd-a317bfa0b15d",
   "metadata": {},
   "source": [
    "# Cointegration test"
   ]
  },
  {
   "cell_type": "code",
   "execution_count": null,
   "id": "b2466481-9632-4d17-b3b8-ca6b5e085c32",
   "metadata": {
    "tags": []
   },
   "outputs": [],
   "source": [
    "df = pd.merge(df_btc, df_mstr, on=\"str_time\", how=\"inner\")"
   ]
  }
 ],
 "metadata": {
  "kernelspec": {
   "display_name": "Python 3 (ipykernel)",
   "language": "python",
   "name": "python3"
  },
  "language_info": {
   "codemirror_mode": {
    "name": "ipython",
    "version": 3
   },
   "file_extension": ".py",
   "mimetype": "text/x-python",
   "name": "python",
   "nbconvert_exporter": "python",
   "pygments_lexer": "ipython3",
   "version": "3.8.10"
  }
 },
 "nbformat": 4,
 "nbformat_minor": 5
}
